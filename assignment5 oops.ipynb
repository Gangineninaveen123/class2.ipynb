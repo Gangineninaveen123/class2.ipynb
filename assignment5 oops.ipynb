{
 "cells": [
  {
   "cell_type": "code",
   "execution_count": 1,
   "id": "27a30b21",
   "metadata": {},
   "outputs": [
    {
     "name": "stdout",
     "output_type": "stream",
     "text": [
      "sample_input: \n",
      "x: 2\n",
      "n: 3\n",
      "sample_output: \n",
      "8\n"
     ]
    }
   ],
   "source": [
    "class power():\n",
    "    def pow(self,x,n):\n",
    "        return x**n\n",
    "    \n",
    "obj1 = power()\n",
    "print('sample_input: ')\n",
    "\n",
    "x = int(input('x: '))\n",
    "\n",
    "n = int(input('n: '))\n",
    "\n",
    "\n",
    "print('sample_output: ')\n",
    "print(obj1.pow(x,n))"
   ]
  },
  {
   "cell_type": "code",
   "execution_count": null,
   "id": "44a8092c",
   "metadata": {},
   "outputs": [],
   "source": []
  }
 ],
 "metadata": {
  "kernelspec": {
   "display_name": "Python 3",
   "language": "python",
   "name": "python3"
  },
  "language_info": {
   "codemirror_mode": {
    "name": "ipython",
    "version": 3
   },
   "file_extension": ".py",
   "mimetype": "text/x-python",
   "name": "python",
   "nbconvert_exporter": "python",
   "pygments_lexer": "ipython3",
   "version": "3.6.9"
  }
 },
 "nbformat": 4,
 "nbformat_minor": 5
}
